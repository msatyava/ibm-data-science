{
    "cells": [
        {
            "cell_type": "markdown",
            "metadata": {
                "collapsed": true
            },
            "source": "# \"My Jupyter Notebook on IBM Watson Studio\""
        },
        {
            "cell_type": "markdown",
            "metadata": {},
            "source": "Murali dharan \nData Scientist"
        },
        {
            "cell_type": "markdown",
            "metadata": {},
            "source": "*I am interested in data science because we have interesting challenges*"
        },
        {
            "cell_type": "markdown",
            "metadata": {},
            "source": "### Arithmetic Operations"
        },
        {
            "cell_type": "code",
            "execution_count": 2,
            "metadata": {},
            "outputs": [
                {
                    "name": "stdout",
                    "output_type": "stream",
                    "text": "5 6 2 1.5 1\n"
                }
            ],
            "source": "a=3+2\nb=3*2\nc=3-1\nd=3/2\ne=3%2\nprint(a,b,c,d,e)"
        },
        {
            "cell_type": "markdown",
            "metadata": {},
            "source": "***\n*  FRUITS\n    *  APPLE \n    *  MANGO\n<img src=\"https://edition.cnn.com/travel/article/burj-khalifa-dubai-guide/index.html\" alt=\"about Burj Khalifa\" title=\"Burj Khalifa\" />\n"
        },
        {
            "cell_type": "code",
            "execution_count": null,
            "metadata": {},
            "outputs": [],
            "source": ""
        }
    ],
    "metadata": {
        "celltoolbar": "Raw Cell Format",
        "kernelspec": {
            "display_name": "Python 3.8",
            "language": "python",
            "name": "python3"
        },
        "language_info": {
            "codemirror_mode": {
                "name": "ipython",
                "version": 3
            },
            "file_extension": ".py",
            "mimetype": "text/x-python",
            "name": "python",
            "nbconvert_exporter": "python",
            "pygments_lexer": "ipython3",
            "version": "3.8.10"
        }
    },
    "nbformat": 4,
    "nbformat_minor": 1
}