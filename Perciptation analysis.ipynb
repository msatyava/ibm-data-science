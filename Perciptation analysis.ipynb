{
    "cells": [
        {
            "cell_type": "markdown",
            "metadata": {
                "collapsed": true
            },
            "source": "Decstiption to run a file"
        },
        {
            "cell_type": "code",
            "execution_count": 1,
            "metadata": {},
            "outputs": [
                {
                    "data": {
                        "text/html": "<div>\n<style scoped>\n    .dataframe tbody tr th:only-of-type {\n        vertical-align: middle;\n    }\n\n    .dataframe tbody tr th {\n        vertical-align: top;\n    }\n\n    .dataframe thead th {\n        text-align: right;\n    }\n</style>\n<table border=\"1\" class=\"dataframe\">\n  <thead>\n    <tr style=\"text-align: right;\">\n      <th></th>\n      <th>RESP</th>\n      <th>IMG</th>\n      <th>base</th>\n      <th>INT</th>\n      <th>PS</th>\n      <th>S</th>\n      <th>P</th>\n      <th>INT_STD</th>\n      <th>ART</th>\n      <th>CNID</th>\n      <th>...</th>\n      <th>Fdiv</th>\n      <th>Fdiss</th>\n      <th>RaoQ</th>\n      <th>TaxdisDelta</th>\n      <th>TaxdisDeltaSTAR</th>\n      <th>TaxdisLambda</th>\n      <th>TaxdisDeltaP</th>\n      <th>SDPLUS</th>\n      <th>Colourful</th>\n      <th>Contrast</th>\n    </tr>\n  </thead>\n  <tbody>\n    <tr>\n      <th>0</th>\n      <td>5058906666</td>\n      <td>S4P1A</td>\n      <td>A3</td>\n      <td>36</td>\n      <td>0</td>\n      <td>4</td>\n      <td>1</td>\n      <td>0.36</td>\n      <td>0</td>\n      <td>8</td>\n      <td>...</td>\n      <td>0.718593</td>\n      <td>0.223549</td>\n      <td>0.061846</td>\n      <td>41.179</td>\n      <td>48.043</td>\n      <td>466.24</td>\n      <td>48.043</td>\n      <td>192.17</td>\n      <td>18.1873</td>\n      <td>5.5452</td>\n    </tr>\n    <tr>\n      <th>1</th>\n      <td>5058732566</td>\n      <td>S4P1A</td>\n      <td>A3</td>\n      <td>39</td>\n      <td>0</td>\n      <td>4</td>\n      <td>1</td>\n      <td>0.39</td>\n      <td>0</td>\n      <td>8</td>\n      <td>...</td>\n      <td>0.718593</td>\n      <td>0.223549</td>\n      <td>0.061846</td>\n      <td>41.179</td>\n      <td>48.043</td>\n      <td>466.24</td>\n      <td>48.043</td>\n      <td>192.17</td>\n      <td>18.1873</td>\n      <td>5.5452</td>\n    </tr>\n    <tr>\n      <th>2</th>\n      <td>5058309519</td>\n      <td>S4P1A</td>\n      <td>A3</td>\n      <td>100</td>\n      <td>0</td>\n      <td>4</td>\n      <td>1</td>\n      <td>1.00</td>\n      <td>0</td>\n      <td>8</td>\n      <td>...</td>\n      <td>0.718593</td>\n      <td>0.223549</td>\n      <td>0.061846</td>\n      <td>41.179</td>\n      <td>48.043</td>\n      <td>466.24</td>\n      <td>48.043</td>\n      <td>192.17</td>\n      <td>18.1873</td>\n      <td>5.5452</td>\n    </tr>\n    <tr>\n      <th>3</th>\n      <td>5058389539</td>\n      <td>S4P1A</td>\n      <td>A3</td>\n      <td>25</td>\n      <td>1</td>\n      <td>4</td>\n      <td>1</td>\n      <td>0.25</td>\n      <td>0</td>\n      <td>8</td>\n      <td>...</td>\n      <td>0.718593</td>\n      <td>0.223549</td>\n      <td>0.061846</td>\n      <td>41.179</td>\n      <td>48.043</td>\n      <td>466.24</td>\n      <td>48.043</td>\n      <td>192.17</td>\n      <td>18.1873</td>\n      <td>5.5452</td>\n    </tr>\n    <tr>\n      <th>4</th>\n      <td>5058411985</td>\n      <td>S4P1A</td>\n      <td>A3</td>\n      <td>45</td>\n      <td>1</td>\n      <td>4</td>\n      <td>1</td>\n      <td>0.45</td>\n      <td>0</td>\n      <td>8</td>\n      <td>...</td>\n      <td>0.718593</td>\n      <td>0.223549</td>\n      <td>0.061846</td>\n      <td>41.179</td>\n      <td>48.043</td>\n      <td>466.24</td>\n      <td>48.043</td>\n      <td>192.17</td>\n      <td>18.1873</td>\n      <td>5.5452</td>\n    </tr>\n  </tbody>\n</table>\n<p>5 rows \u00d7 28 columns</p>\n</div>",
                        "text/plain": "         RESP    IMG base  INT  PS  S  P  INT_STD  ART  CNID  ...      Fdiv  \\\n0  5058906666  S4P1A   A3   36   0  4  1     0.36    0     8  ...  0.718593   \n1  5058732566  S4P1A   A3   39   0  4  1     0.39    0     8  ...  0.718593   \n2  5058309519  S4P1A   A3  100   0  4  1     1.00    0     8  ...  0.718593   \n3  5058389539  S4P1A   A3   25   1  4  1     0.25    0     8  ...  0.718593   \n4  5058411985  S4P1A   A3   45   1  4  1     0.45    0     8  ...  0.718593   \n\n      Fdiss      RaoQ  TaxdisDelta  TaxdisDeltaSTAR  TaxdisLambda  \\\n0  0.223549  0.061846       41.179           48.043        466.24   \n1  0.223549  0.061846       41.179           48.043        466.24   \n2  0.223549  0.061846       41.179           48.043        466.24   \n3  0.223549  0.061846       41.179           48.043        466.24   \n4  0.223549  0.061846       41.179           48.043        466.24   \n\n   TaxdisDeltaP  SDPLUS  Colourful  Contrast  \n0        48.043  192.17    18.1873    5.5452  \n1        48.043  192.17    18.1873    5.5452  \n2        48.043  192.17    18.1873    5.5452  \n3        48.043  192.17    18.1873    5.5452  \n4        48.043  192.17    18.1873    5.5452  \n\n[5 rows x 28 columns]"
                    },
                    "execution_count": 1,
                    "metadata": {},
                    "output_type": "execute_result"
                }
            ],
            "source": "# The code was removed by Watson Studio for sharing."
        },
        {
            "cell_type": "code",
            "execution_count": null,
            "metadata": {},
            "outputs": [],
            "source": ""
        }
    ],
    "metadata": {
        "kernelspec": {
            "display_name": "Python 3.8",
            "language": "python",
            "name": "python3"
        },
        "language_info": {
            "codemirror_mode": {
                "name": "ipython",
                "version": 3
            },
            "file_extension": ".py",
            "mimetype": "text/x-python",
            "name": "python",
            "nbconvert_exporter": "python",
            "pygments_lexer": "ipython3",
            "version": "3.8.10"
        }
    },
    "nbformat": 4,
    "nbformat_minor": 1
}